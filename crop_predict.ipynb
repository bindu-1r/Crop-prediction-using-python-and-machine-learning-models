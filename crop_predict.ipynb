import pandas as pd
from sklearn.model_selection import train_test_split
from sklearn.preprocessing import StandardScaler
from sklearn.ensemble import RandomForestClassifier
from sklearn.metrics import accuracy_score

# Load the dataset
file_path = 'India Agriculture Crop Production.csv'
df = pd.read_csv(file_path)

# Handle missing values
df.dropna(inplace=True)

# Discretize the 'Production' into categories (High, Medium, Low)
df['Production_Category'] = pd.qcut(df['Production'], q=3, labels=['Low', 'Medium', 'High'])

# Define the feature set (X) and the target variable (y)
X = df[['Area', 'Yield']]  # Use relevant features
y = df['Production_Category']  # Target is now categorical

# Split data into train and test sets
X_train, X_test, y_train, y_test = train_test_split(X, y, test_size=0.2, random_state=42)

# Scale the features
scaler = StandardScaler()
X_train_scaled = scaler.fit_transform(X_train)
X_test_scaled = scaler.transform(X_test)

# Apply Random Forest classification
rf_model = RandomForestClassifier(random_state=42)
rf_model.fit(X_train_scaled, y_train)

# Make predictions
y_pred = rf_model.predict(X_test_scaled)

# Evaluate accuracy
accuracy = accuracy_score(y_test, y_pred)
print(f"Accuracy of Random Forest model: {accuracy * 100:.2f}%")


import tkinter as tk
from tkinter import ttk
import pandas as pd
from sklearn.model_selection import train_test_split
from sklearn.preprocessing import StandardScaler
from sklearn.neighbors import KNeighborsClassifier, KNeighborsRegressor
from sklearn.cluster import KMeans
from sklearn.tree import DecisionTreeClassifier, DecisionTreeRegressor
from sklearn.ensemble import RandomForestClassifier, RandomForestRegressor

# Load the dataset
file_path = 'India Agriculture Crop Production.csv'
df = pd.read_csv(file_path)

# Handle missing values
df.dropna(inplace=True)

# Convert the 'Year' column to numeric format by extracting the first 4 digits
df['Year'] = df['Year'].apply(lambda x: int(str(x)[:4]))

# Extract relevant features and target variables
features = ['State', 'District', 'Season', 'Year']
target_crop = 'Crop'  # Assuming there is a column for the crop type
target_production = 'Production'

# Encode categorical variables
df_encoded = pd.get_dummies(df[features], drop_first=True)

# Split the data
X = df_encoded
y_crop = df[target_crop]
y_production = df[target_production]

X_train, X_test, y_crop_train, y_crop_test = train_test_split(X, y_crop, test_size=0.2, random_state=42)
X_train, X_test, y_prod_train, y_prod_test = train_test_split(X, y_production, test_size=0.2, random_state=42)

# Scale features
scaler = StandardScaler()
X_train_scaled = scaler.fit_transform(X_train)
X_test_scaled = scaler.transform(X_test)

# Train all models for predicting crop (classification)
# KNN
knn_crop = KNeighborsClassifier(n_neighbors=5)
knn_crop.fit(X_train_scaled, y_crop_train)

# KMeans
kmeans_crop = KMeans(n_clusters=3, random_state=42)
kmeans_crop.fit(X_train_scaled)

# Decision Tree
decision_tree_crop = DecisionTreeClassifier(random_state=42)
decision_tree_crop.fit(X_train_scaled, y_crop_train)

# Random Forest
random_forest_crop = RandomForestClassifier(random_state=42)
random_forest_crop.fit(X_train_scaled, y_crop_train)

# Train all models for predicting production (regression)
# KNN Regressor
knn_prod = KNeighborsRegressor(n_neighbors=5)
knn_prod.fit(X_train_scaled, y_prod_train)

# Decision Tree Regressor
decision_tree_prod = DecisionTreeRegressor(random_state=42)
decision_tree_prod.fit(X_train_scaled, y_prod_train)

# Random Forest Regressor
random_forest_prod = RandomForestRegressor(random_state=42)
random_forest_prod.fit(X_train_scaled, y_prod_train)

# Function to predict crop and production based on selected model
def predict_crop_production():
    state = state_var.get()
    district = district_var.get()
    season = season_var.get()
    year = int(year_entry.get())

    # Prepare the input for prediction
    input_data = pd.DataFrame([[state, district, season, year]], columns=features)
    input_encoded = pd.get_dummies(input_data).reindex(columns=X.columns, fill_value=0)
    input_scaled = scaler.transform(input_encoded)

    # Choose the selected model
    model = model_var.get()
    
    if model == 'KNN':
        crop_prediction = knn_crop.predict(input_scaled)
        prod_prediction = knn_prod.predict(input_scaled)
    elif model == 'KMeans':
        crop_prediction = kmeans_crop.predict(input_scaled)
        prod_prediction = random_forest_prod.predict(input_scaled)  # KMeans isn't suitable for production regression
    elif model == 'Decision Tree':
        crop_prediction = decision_tree_crop.predict(input_scaled)
        prod_prediction = decision_tree_prod.predict(input_scaled)
    elif model == 'Random Forest':
        crop_prediction = random_forest_crop.predict(input_scaled)
        prod_prediction = random_forest_prod.predict(input_scaled)

    # Show the prediction result
    result_label.config(text=f'Predicted Crop: {crop_prediction[0]}, Predicted Production: {prod_prediction[0]:.2f}')




# Create GUI window
root = tk.Tk()
root.title("Crop and Production Prediction")

# GUI elements for input
state_label = tk.Label(root, text="State")
state_label.grid(row=0, column=0)

state_var = tk.StringVar()
state_dropdown = ttk.Combobox(root, textvariable=state_var)
state_dropdown['values'] = df['State'].unique().tolist()  # Populate with unique states
state_dropdown.grid(row=0, column=1)

district_label = tk.Label(root, text="District")
district_label.grid(row=1, column=0)

district_var = tk.StringVar()
district_dropdown = ttk.Combobox(root, textvariable=district_var)
district_dropdown['values'] = df['District'].unique().tolist()  # Populate with unique districts
district_dropdown.grid(row=1, column=1)

season_label = tk.Label(root, text="Season")
season_label.grid(row=2, column=0)

season_var = tk.StringVar()
season_dropdown = ttk.Combobox(root, textvariable=season_var)
season_dropdown['values'] = df['Season'].unique().tolist()  # Populate with unique seasons
season_dropdown.grid(row=2, column=1)

year_label = tk.Label(root, text="Year")
year_label.grid(row=3, column=0)
year_entry = tk.Entry(root)
year_entry.grid(row=3, column=1)

# Model selection
model_label = tk.Label(root, text="Select Model")
model_label.grid(row=4, column=0)

model_var = tk.StringVar()
model_dropdown = ttk.Combobox(root, textvariable=model_var)
model_dropdown['values'] = ['KNN', 'KMeans', 'Decision Tree', 'Random Forest']
model_dropdown.grid(row=4, column=1)

# Prediction button and result label
predict_button = tk.Button(root, text="Predict", command=predict_crop_production)
predict_button.grid(row=5, column=1)

result_label = tk.Label(root, text="Predicted Crop and Production: ")
result_label.grid(row=6, column=1)

# Start the GUI
root.mainloop()
